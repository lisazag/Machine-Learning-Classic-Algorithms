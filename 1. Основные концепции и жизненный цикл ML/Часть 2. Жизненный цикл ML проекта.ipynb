{
 "cells": [
  {
   "cell_type": "markdown",
   "metadata": {},
   "source": [
    "# Жизненный цикл ML проекта"
   ]
  },
  {
   "cell_type": "markdown",
   "metadata": {},
   "source": [
    "## Цели работы\n",
    "\n",
    "1. **Разведочный анализ данных:**\n",
    "   - Изучение и анализ данных с использованием разведочного анализа. Подключение к базе данных PostgreSQL, выгрузка и сохранение данных в датафрейм.\n",
    "   \n",
    "2. **Анализ распределения переменных:**\n",
    "   - Построение гистограмм распределения для каждой переменной с целью понимания их характеристик и особенностей, а также анализ и описание распределения каждой переменной. Экспериментирование с различным количеством разбивок (bins) для получения более детального представления о распределении данных.\n",
    "   \n",
    "3. **Интерпретация результатов:**\n",
    "   - Определение областей с высокой и низкой концентрацией значений, что позволит выявить важные инсайты и закономерности в данных.\n",
    "\n",
    "Цели работы направлены на глубокое понимание структуры и особенностей данных через разведочный анализ, что является критически важным этапом в жизненном цикле проектов машинного обучения. Этот этап позволяет определить подходы к последующему моделированию и принятию обоснованных решений на основе данных.\n"
   ]
  },
  {
   "cell_type": "markdown",
   "metadata": {},
   "source": [
    "## Этап 1. Разведочный анализ данных\n",
    "\n",
    "Этот блок кода отвечает за подключение к базе данных и извлечение данных. Вот что происходит в каждом шаге:\n",
    "\n",
    "1. **Установление соединения с базой данных:**\n",
    "   - Используя параметры подключения, создается строка соединения с базой данных PostgreSQL, что позволяет получить доступ к таблице `exploratory`.\n",
    "\n",
    "2. **Извлечение данных:**\n",
    "   - С помощью SQL запроса `\"SELECT * FROM exploratory\"` данные извлекаются из таблицы и загружаются в датафрейм `exploratory`. Затем применяется функция `pd.to_numeric` для преобразования всех значений в числовой формат, обеспечивая корректность последующего анализа.\n",
    "\n",
    "3. **Просмотр начальных строк данных:**\n",
    "   - Вызывается метод `.head()` для визуального осмотра первых строк данных, что позволяет получить представление о структуре и типе данных."
   ]
  },
  {
   "cell_type": "code",
   "execution_count": 1,
   "metadata": {
    "collapsed": false,
    "pycharm": {
     "name": "#%%\n"
    }
   },
   "outputs": [],
   "source": [
    "import numpy as np\n",
    "import pandas as pd\n",
    "import psycopg2\n",
    "import matplotlib\n",
    "import matplotlib.pyplot as plt\n",
    "\n",
    "matplotlib.rc(\"font\", size=18) # для увеличения шрифта подписей графиков"
   ]
  },
  {
   "cell_type": "code",
   "execution_count": 2,
   "metadata": {
    "collapsed": false,
    "pycharm": {
     "name": "#%%\n"
    }
   },
   "outputs": [],
   "source": [
    "connection = f\"postgresql://{'readonly'}:{'6hajV34RTQfmxhS'}@{'dsstudents.skillbox.ru'}:{'5432'}/{'db_ds_students'}\"\n",
    "exploratory = pd.read_sql_query(\"SELECT * FROM exploratory\", connection)\n",
    "exploratory = exploratory.apply(pd.to_numeric, errors='coerce')"
   ]
  },
  {
   "cell_type": "code",
   "execution_count": 3,
   "metadata": {
    "collapsed": false,
    "pycharm": {
     "name": "#%%\n"
    }
   },
   "outputs": [
    {
     "data": {
      "text/html": [
       "<div>\n",
       "<style scoped>\n",
       "    .dataframe tbody tr th:only-of-type {\n",
       "        vertical-align: middle;\n",
       "    }\n",
       "\n",
       "    .dataframe tbody tr th {\n",
       "        vertical-align: top;\n",
       "    }\n",
       "\n",
       "    .dataframe thead th {\n",
       "        text-align: right;\n",
       "    }\n",
       "</style>\n",
       "<table border=\"1\" class=\"dataframe\">\n",
       "  <thead>\n",
       "    <tr style=\"text-align: right;\">\n",
       "      <th></th>\n",
       "      <th>feature_1</th>\n",
       "      <th>feature_2</th>\n",
       "      <th>feature_3</th>\n",
       "      <th>feature_4</th>\n",
       "      <th>feature_5</th>\n",
       "    </tr>\n",
       "  </thead>\n",
       "  <tbody>\n",
       "    <tr>\n",
       "      <th>0</th>\n",
       "      <td>2.439930</td>\n",
       "      <td>-2.180961</td>\n",
       "      <td>33.468496</td>\n",
       "      <td>-1.927388</td>\n",
       "      <td>-5.321392</td>\n",
       "    </tr>\n",
       "    <tr>\n",
       "      <th>1</th>\n",
       "      <td>1.770580</td>\n",
       "      <td>-1.174880</td>\n",
       "      <td>0.989593</td>\n",
       "      <td>-1.139681</td>\n",
       "      <td>-2.080220</td>\n",
       "    </tr>\n",
       "    <tr>\n",
       "      <th>2</th>\n",
       "      <td>0.742817</td>\n",
       "      <td>-0.263483</td>\n",
       "      <td>0.168149</td>\n",
       "      <td>-0.332438</td>\n",
       "      <td>-0.195720</td>\n",
       "    </tr>\n",
       "    <tr>\n",
       "      <th>3</th>\n",
       "      <td>-1.510892</td>\n",
       "      <td>2.712571</td>\n",
       "      <td>-2.685643</td>\n",
       "      <td>2.058495</td>\n",
       "      <td>-4.098402</td>\n",
       "    </tr>\n",
       "    <tr>\n",
       "      <th>4</th>\n",
       "      <td>-0.483511</td>\n",
       "      <td>0.096511</td>\n",
       "      <td>-0.028703</td>\n",
       "      <td>0.168763</td>\n",
       "      <td>-0.046664</td>\n",
       "    </tr>\n",
       "  </tbody>\n",
       "</table>\n",
       "</div>"
      ],
      "text/plain": [
       "   feature_1  feature_2  feature_3  feature_4  feature_5\n",
       "0   2.439930  -2.180961  33.468496  -1.927388  -5.321392\n",
       "1   1.770580  -1.174880   0.989593  -1.139681  -2.080220\n",
       "2   0.742817  -0.263483   0.168149  -0.332438  -0.195720\n",
       "3  -1.510892   2.712571  -2.685643   2.058495  -4.098402\n",
       "4  -0.483511   0.096511  -0.028703   0.168763  -0.046664"
      ]
     },
     "execution_count": 3,
     "metadata": {},
     "output_type": "execute_result"
    }
   ],
   "source": [
    "exploratory.head()"
   ]
  },
  {
   "cell_type": "markdown",
   "metadata": {},
   "source": [
    "## Этап 2. Анализ распределения переменных\n",
    "\n",
    "Этот блок кода представляет собой визуализацию распределений пяти переменных (`feature_1` до `feature_5`) с помощью гистограмм и диаграмм размаха (box plots). Диаграммы размаха полезны для отображения медиан, квартилей, а также потенциальных выбросов в данных. Вот что происходит на каждом этапе:\n",
    "\n",
    "1. **Визуализация распределения каждой переменной:**\n",
    "   - Для каждой переменной (`feature_1` до `feature_5`) строится гистограмма распределения с помощью метода `.hist`. Это визуальное представление позволяет оценить распределение значений, выявить моды, асимметрию, аномалии и другие характеристики данных. \n",
    "\n",
    "1. **Визуализация размаха для каждой переменной:**\n",
    "   - Для каждой переменной (`feature_1` до `feature_5`) строится визуализация диаграммы размаха . Это позволяет оценить распределение, медиану, квартили и потенциальные выбросы.\n",
    "\n",
    "Использование диаграмм размаха в этом блоке кода предоставляет ценную информацию о распределении каждой из переменных, ключевых статистических метриках и потенциальных выбросах, что является важным аспектом анализа распределения.\n",
    "\n"
   ]
  },
  {
   "cell_type": "markdown",
   "metadata": {
    "collapsed": false,
    "pycharm": {
     "name": "#%% md\n"
    }
   },
   "source": [
    "**Колонка \"feature_1\":**"
   ]
  },
  {
   "cell_type": "code",
   "execution_count": 4,
   "metadata": {
    "collapsed": false,
    "pycharm": {
     "name": "#%%\n"
    }
   },
   "outputs": [
    {
     "data": {
      "image/png": "[encoded data removed]",
      "text/plain": [
       "<Figure size 720x432 with 1 Axes>"
      ]
     },
     "metadata": {
      "needs_background": "light"
     },
     "output_type": "display_data"
    }
   ],
   "source": [
    "exploratory.hist(column = 'feature_1', bins=10, figsize=(10, 6))\n",
    "plt.show()"
   ]
  },
  {
   "cell_type": "markdown",
   "metadata": {
    "collapsed": false,
    "pycharm": {
     "name": "#%% md\n"
    }
   },
   "source": [
    "На графике видно 2 разброса — от **-2 до -0,5** и от **0,5 до 1,5**. Больше всего значений находится во втором промежутке — от **0,5 до 1,5**.\n",
    "\n",
    "Меньше всего значений видно по краям графика от **-3 до -2**, от **1,5 до 2**, а также в середине — от **-0,5 до 0,5**."
   ]
  },
  {
   "cell_type": "markdown",
   "metadata": {
    "collapsed": false,
    "pycharm": {
     "name": "#%% md\n"
    }
   },
   "source": [
    "**Колонка “feature_2”:**"
   ]
  },
  {
   "cell_type": "code",
   "execution_count": 5,
   "metadata": {
    "id": "kZgqcDfdJUJp",
    "pycharm": {
     "name": "#%%\n"
    }
   },
   "outputs": [
    {
     "data": {
      "image/png": "[encoded data removed]",
      "text/plain": [
       "<Figure size 720x432 with 1 Axes>"
      ]
     },
     "metadata": {
      "needs_background": "light"
     },
     "output_type": "display_data"
    }
   ],
   "source": [
    "exploratory.hist(column = 'feature_2', bins=10, figsize=(10, 6))\n",
    "plt.show()"
   ]
  },
  {
   "cell_type": "markdown",
   "metadata": {
    "collapsed": false,
    "pycharm": {
     "name": "#%% md\n"
    }
   },
   "source": [
    "На графике видно 2 пика — от **-1,5 до -1** и от **1 до 1,5**. Значения от **1 до 1,5** похожи на выброс, так как после пика в -1,5 значения плавно падают до 3, исключая этот промежуток.\n",
    "\n",
    "Меньше всего значений видно в начале графика от **-4 до -2**."
   ]
  },
  {
   "cell_type": "markdown",
   "metadata": {
    "collapsed": false,
    "pycharm": {
     "name": "#%% md\n"
    }
   },
   "source": [
    "**Колонка \"feature_3\":**"
   ]
  },
  {
   "cell_type": "code",
   "execution_count": 6,
   "metadata": {
    "collapsed": false,
    "pycharm": {
     "name": "#%%\n"
    }
   },
   "outputs": [
    {
     "data": {
      "image/png": "[encoded data removed]",
      "text/plain": [
       "<Figure size 720x432 with 1 Axes>"
      ]
     },
     "metadata": {
      "needs_background": "light"
     },
     "output_type": "display_data"
    }
   ],
   "source": [
    "exploratory.hist(column = 'feature_3', bins=10, figsize=(10, 6))\n",
    "plt.show()"
   ]
  },
  {
   "cell_type": "markdown",
   "metadata": {
    "collapsed": false,
    "pycharm": {
     "name": "#%% md\n"
    }
   },
   "source": [
    "Почти все значения приходятся на промежуток от **-5 до 5**. Остальные значения несущественны — они находятся в промежутке от **30 до 65**."
   ]
  },
  {
   "cell_type": "markdown",
   "metadata": {
    "collapsed": false,
    "pycharm": {
     "name": "#%% md\n"
    }
   },
   "source": [
    "**Колонка \"feature_4\":**"
   ]
  },
  {
   "cell_type": "code",
   "execution_count": 18,
   "metadata": {
    "collapsed": false,
    "pycharm": {
     "name": "#%%\n"
    }
   },
   "outputs": [
    {
     "data": {
      "image/png": "[encoded data removed]",
      "text/plain": [
       "<Figure size 720x432 with 1 Axes>"
      ]
     },
     "metadata": {
      "needs_background": "light"
     },
     "output_type": "display_data"
    }
   ],
   "source": [
    "exploratory.hist(column = 'feature_4', bins=10, figsize=(10, 6))\n",
    "plt.show()"
   ]
  },
  {
   "cell_type": "markdown",
   "metadata": {
    "collapsed": false,
    "pycharm": {
     "name": "#%% md\n"
    }
   },
   "source": [
    "Распределение значений похоже на нормальное — с пиком посередине и с минимальными значениями по краям. Пик приходится на промежутки от **-1 до 1**. Минимальные значения же находятся в промежутках от **-2,5 до -1** и от **1 до 2**."
   ]
  },
  {
   "cell_type": "markdown",
   "metadata": {
    "collapsed": false,
    "pycharm": {
     "name": "#%% md\n"
    }
   },
   "source": [
    "**Колонка “feature_5”:**"
   ]
  },
  {
   "cell_type": "code",
   "execution_count": 8,
   "metadata": {
    "collapsed": false,
    "pycharm": {
     "name": "#%%\n"
    }
   },
   "outputs": [
    {
     "data": {
      "image/png": "[encoded data removed]",
      "text/plain": [
       "<Figure size 720x432 with 1 Axes>"
      ]
     },
     "metadata": {
      "needs_background": "light"
     },
     "output_type": "display_data"
    }
   ],
   "source": [
    "exploratory.hist(column = 'feature_5', bins=10, figsize=(10, 6))\n",
    "plt.show()"
   ]
  },
  {
   "cell_type": "markdown",
   "metadata": {
    "collapsed": false,
    "pycharm": {
     "name": "#%% md\n"
    }
   },
   "source": [
    "Значения графика растут равномерно почти на всём интервале от **-5 до 1**, но резко падает в промежутке от **1 до 2**. Самый пик значений приходится на промежуток от **0,5 до 1**, а самое минимальное значение приходится на отрезок от **-4,5 до -4**."
   ]
  },
  {
   "cell_type": "markdown",
   "metadata": {
    "collapsed": false,
    "pycharm": {
     "name": "#%% md\n"
    }
   },
   "source": [
    "**Feature_1:**"
   ]
  },
  {
   "cell_type": "code",
   "execution_count": 9,
   "metadata": {
    "collapsed": false,
    "pycharm": {
     "name": "#%%\n"
    }
   },
   "outputs": [
    {
     "data": {
      "image/png": "[encoded data removed]",
      "text/plain": [
       "<Figure size 720x720 with 1 Axes>"
      ]
     },
     "metadata": {
      "needs_background": "light"
     },
     "output_type": "display_data"
    }
   ],
   "source": [
    "plt.figure(figsize=(10, 10))\n",
    "plt.boxplot(exploratory['feature_1']);"
   ]
  },
  {
   "cell_type": "markdown",
   "metadata": {
    "collapsed": false,
    "pycharm": {
     "name": "#%% md\n"
    }
   },
   "source": [
    "Выбросов на графике нет. Верхняя граница значений — примерно 2.5, нижняя – -3. Верхний квартиль ~0.9, нижний – ~-1. Медиана находится на уровне примерно 0.2."
   ]
  },
  {
   "cell_type": "markdown",
   "metadata": {
    "collapsed": false,
    "pycharm": {
     "name": "#%% md\n"
    }
   },
   "source": [
    "**Feature_2:**"
   ]
  },
  {
   "cell_type": "code",
   "execution_count": 10,
   "metadata": {
    "collapsed": false,
    "pycharm": {
     "name": "#%%\n"
    }
   },
   "outputs": [
    {
     "data": {
      "image/png": "[encoded data removed]",
      "text/plain": [
       "<Figure size 720x720 with 1 Axes>"
      ]
     },
     "metadata": {
      "needs_background": "light"
     },
     "output_type": "display_data"
    }
   ],
   "source": [
    "plt.figure(figsize=(10, 10))\n",
    "plt.boxplot(exploratory['feature_2']);"
   ]
  },
  {
   "cell_type": "markdown",
   "metadata": {
    "collapsed": false,
    "pycharm": {
     "name": "#%% md\n"
    }
   },
   "source": [
    "Выбросов также нет. Медиана — 0, нижний квартиль — приблизительно -1.1, верхний — ~1.2, верхняя граница — ~2.7, нижняя – ~-3.7."
   ]
  },
  {
   "cell_type": "markdown",
   "metadata": {
    "collapsed": false,
    "pycharm": {
     "name": "#%% md\n"
    }
   },
   "source": [
    "**Feature_3:**"
   ]
  },
  {
   "cell_type": "code",
   "execution_count": 11,
   "metadata": {
    "collapsed": false,
    "pycharm": {
     "name": "#%%\n"
    }
   },
   "outputs": [
    {
     "data": {
      "image/png": "[encoded data removed]",
      "text/plain": [
       "<Figure size 720x720 with 1 Axes>"
      ]
     },
     "metadata": {
      "needs_background": "light"
     },
     "output_type": "display_data"
    }
   ],
   "source": [
    "plt.figure(figsize=(10, 10))\n",
    "plt.boxplot(exploratory['feature_3']);"
   ]
  },
  {
   "cell_type": "markdown",
   "metadata": {
    "collapsed": false,
    "pycharm": {
     "name": "#%% md\n"
    }
   },
   "source": [
    "На графике можно видеть множество выбросов, как мы и предполагали. Они находятся сверху графика приблизительно на промежутках от 30 до 63. Медиана находится примерно на значении 0, нижняя граница примерно -5, верхняя – 3. Квартили находятся близко к границам. Нижний -2, верхний 2. Для более точного описания нужно чистить данные."
   ]
  },
  {
   "cell_type": "markdown",
   "metadata": {
    "collapsed": false,
    "pycharm": {
     "name": "#%% md\n"
    }
   },
   "source": [
    "**Feature_4:**"
   ]
  },
  {
   "cell_type": "code",
   "execution_count": 12,
   "metadata": {
    "collapsed": false,
    "pycharm": {
     "name": "#%%\n"
    }
   },
   "outputs": [
    {
     "data": {
      "image/png": "[encoded data removed]",
      "text/plain": [
       "<Figure size 720x720 with 1 Axes>"
      ]
     },
     "metadata": {
      "needs_background": "light"
     },
     "output_type": "display_data"
    }
   ],
   "source": [
    "plt.figure(figsize=(10, 10))\n",
    "plt.boxplot(exploratory['feature_4']);"
   ]
  },
  {
   "cell_type": "markdown",
   "metadata": {
    "collapsed": false,
    "pycharm": {
     "name": "#%% md\n"
    }
   },
   "source": [
    "Выбросов на графике нет. Медиана – 0. Нижняя граница ~-2.7, нижний квартиль ~-0.7, верхний квартиль ~0.9, верхняя граница ~2.1."
   ]
  },
  {
   "cell_type": "markdown",
   "metadata": {
    "collapsed": false,
    "pycharm": {
     "name": "#%% md\n"
    }
   },
   "source": [
    "**Feature_5:**"
   ]
  },
  {
   "cell_type": "code",
   "execution_count": 13,
   "metadata": {
    "collapsed": false,
    "pycharm": {
     "name": "#%%\n"
    }
   },
   "outputs": [
    {
     "data": {
      "image/png": "[encoded data removed]",
      "text/plain": [
       "<Figure size 720x720 with 1 Axes>"
      ]
     },
     "metadata": {
      "needs_background": "light"
     },
     "output_type": "display_data"
    }
   ],
   "source": [
    "plt.figure(figsize=(10, 10))\n",
    "plt.boxplot(exploratory['feature_5']);"
   ]
  },
  {
   "cell_type": "markdown",
   "metadata": {
    "collapsed": false,
    "pycharm": {
     "name": "#%% md\n"
    }
   },
   "source": [
    "Есть один выброс на уровне ~-5.3. Нижняя граница ~-5, нижний квартиль ~-1.7, медиана ~-0.2, верхний квартиль ~0.8, верхняя граница ~2."
   ]
  },
  {
   "cell_type": "markdown",
   "metadata": {},
   "source": [
    "## Этап 3. Интерпритация данных\n",
    "\n",
    "Этот блок кода иллюстрирует взаимосвязи между переменными путем создания диаграмм рассеяния. В каждой диаграмме анализируется взаимодействие между `feature_4` и другими переменными (`feature_1`, `feature_2`, `feature_3`, `feature_5`). Диаграммы рассеяния полезны для визуализации и понимания взаимосвязей между парами переменных. Вот детальное описание каждого шага:\n",
    "\n",
    "1. **Взаимосвязь между `feature_1` и `feature_4`:**\n",
    "   - Создается диаграмма рассеяния, где по оси x отложена `feature_1`, а по оси y – `feature_4`. Это позволяет визуально оценить, как переменные связаны друг с другом, выявить возможные закономерности или аномалии в данных.\n",
    "\n",
    "2. **Взаимосвязь между `feature_2` и `feature_4`:**\n",
    "   - Аналогично, строится диаграмма рассеяния для `feature_2` и `feature_4`. Визуализация помогает понять, существует ли корреляция между этими переменными и как они могут влиять друг на друга.\n",
    "\n",
    "3. **Взаимосвязь между `feature_3` и `feature_4`:**\n",
    "   - Диаграмма рассеяния для `feature_3` и `feature_4` строится для анализа их взаимодействия. Особое внимание уделяется определению тенденций или кластеров в распределении точек.\n",
    "\n",
    "4. **Взаимосвязь между `feature_5` и `feature_4`:**\n",
    "   - В конце, строится диаграмма рассеяния для `feature_5` и `feature_4`. Это позволяет оценить, как эти две переменные связаны и как распределение одной переменной может быть связано с распределением другой.\n"
   ]
  },
  {
   "cell_type": "markdown",
   "metadata": {
    "collapsed": false,
    "pycharm": {
     "name": "#%% md\n"
    }
   },
   "source": [
    "**Проверка влияния переменной feature_1 на feature_4:**"
   ]
  },
  {
   "cell_type": "code",
   "execution_count": 14,
   "metadata": {
    "collapsed": false,
    "pycharm": {
     "name": "#%%\n"
    }
   },
   "outputs": [
    {
     "data": {
      "image/png": "[encoded data removed]",
      "text/plain": [
       "<Figure size 720x720 with 1 Axes>"
      ]
     },
     "metadata": {
      "needs_background": "light"
     },
     "output_type": "display_data"
    }
   ],
   "source": [
    "# f1\n",
    "fig = plt.figure(figsize=(10, 10)) # создаем картинку\n",
    "ax = plt.axes()\n",
    "plt.xlabel('feature_1')\n",
    "plt.ylabel('feature_4')\n",
    "\n",
    "ax.scatter(exploratory[\"feature_1\"], exploratory[\"feature_4\"], s=100)\n",
    "\n",
    "plt.show()"
   ]
  },
  {
   "cell_type": "markdown",
   "metadata": {
    "collapsed": false,
    "pycharm": {
     "name": "#%% md\n"
    }
   },
   "source": [
    "Проверка влияния переменной feature_2 на feature_4:"
   ]
  },
  {
   "cell_type": "code",
   "execution_count": 15,
   "metadata": {
    "collapsed": false,
    "pycharm": {
     "name": "#%%\n"
    }
   },
   "outputs": [
    {
     "data": {
      "image/png": "[encoded data removed]",
      "text/plain": [
       "<Figure size 720x720 with 1 Axes>"
      ]
     },
     "metadata": {
      "needs_background": "light"
     },
     "output_type": "display_data"
    }
   ],
   "source": [
    "# f2\n",
    "fig = plt.figure(figsize=(10, 10)) # создаем картинку\n",
    "ax = plt.axes()\n",
    "plt.xlabel('feature_2')\n",
    "plt.ylabel('feature_4')\n",
    "\n",
    "ax.scatter(exploratory[\"feature_2\"], exploratory[\"feature_4\"], s=100)\n",
    "\n",
    "plt.show()"
   ]
  },
  {
   "cell_type": "markdown",
   "metadata": {
    "collapsed": false,
    "pycharm": {
     "name": "#%% md\n"
    }
   },
   "source": [
    "Проверка влияния переменной feature_3 на feature_4:"
   ]
  },
  {
   "cell_type": "code",
   "execution_count": 16,
   "metadata": {
    "collapsed": false,
    "pycharm": {
     "name": "#%%\n"
    }
   },
   "outputs": [
    {
     "data": {
      "image/png": "[encoded data removed]",
      "text/plain": [
       "<Figure size 720x720 with 1 Axes>"
      ]
     },
     "metadata": {
      "needs_background": "light"
     },
     "output_type": "display_data"
    }
   ],
   "source": [
    "# f3\n",
    "fig = plt.figure(figsize=(10, 10)) # создаем картинку\n",
    "ax = plt.axes()\n",
    "plt.xlabel('feature_3')\n",
    "plt.ylabel('feature_4')\n",
    "\n",
    "ax.scatter(exploratory[\"feature_3\"], exploratory[\"feature_4\"], s=100)\n",
    "\n",
    "plt.show()"
   ]
  },
  {
   "cell_type": "markdown",
   "metadata": {
    "collapsed": false,
    "pycharm": {
     "name": "#%% md\n"
    }
   },
   "source": [
    "Проверка влияния переменной feature_5 на feature_4:"
   ]
  },
  {
   "cell_type": "code",
   "execution_count": 17,
   "metadata": {
    "collapsed": false,
    "pycharm": {
     "name": "#%%\n"
    }
   },
   "outputs": [
    {
     "data": {
      "image/png": "[encoded data removed]",
      "text/plain": [
       "<Figure size 720x720 with 1 Axes>"
      ]
     },
     "metadata": {
      "needs_background": "light"
     },
     "output_type": "display_data"
    }
   ],
   "source": [
    "# f5\n",
    "fig = plt.figure(figsize=(10, 10)) # создаем картинку\n",
    "ax = plt.axes()\n",
    "plt.xlabel('feature_5')\n",
    "plt.ylabel('feature_4')\n",
    "\n",
    "ax.scatter(exploratory[\"feature_5\"], exploratory[\"feature_4\"], s=100)\n",
    "\n",
    "plt.show()"
   ]
  },
  {
   "cell_type": "markdown",
   "metadata": {
    "collapsed": false,
    "pycharm": {
     "name": "#%% md\n"
    }
   },
   "source": [
    "Судя по графику, явную линейную зависимость на feature_4 может оказывать feature_2. Также можно рассмотреть включение переменных feature_1 и, если почистить данные, feature_3. У них зависимость не такая явная, но может присутствовать."
   ]
  }
 ],
 "metadata": {
  "colab": {
   "name": "jun_ml_EDA_hw.ipynb",
   "provenance": []
  },
  "kernelspec": {
   "display_name": "Python 3",
   "language": "python",
   "name": "python3"
  },
  "language_info": {
   "codemirror_mode": {
    "name": "ipython",
    "version": 3
   },
   "file_extension": ".py",
   "mimetype": "text/x-python",
   "name": "python",
   "nbconvert_exporter": "python",
   "pygments_lexer": "ipython3",
   "version": "3.6.3"
  }
 },
 "nbformat": 4,
 "nbformat_minor": 0
}
