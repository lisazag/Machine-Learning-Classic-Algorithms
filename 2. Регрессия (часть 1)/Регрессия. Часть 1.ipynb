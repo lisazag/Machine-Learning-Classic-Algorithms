{
 "cells": [
  {
   "cell_type": "markdown",
   "metadata": {
    "id": "cisB24TazhU2",
    "pycharm": {
     "name": "#%% md\n"
    }
   },
   "source": [
    "# Регрессия. Часть 1\n",
    "\n",
    "## Цели работы\n",
    "\n",
    "1. **Импорт библиотек и загрузка датасета:**\n",
    "   - Импортировать необходимые библиотеки для работы с данными и моделями машинного обучения.\n",
    "   - Загрузить и предварительно ознакомиться с данными, предназначенными для анализа и построения модели регрессии.\n",
    "\n",
    "2. **Выбор лучшей степени полиномиальной регрессии:**\n",
    "   - Применить метод полиномиальной регрессии для моделирования нелинейных зависимостей.\n",
    "   - Использовать Grid Search для определения оптимальной степени полинома, обеспечивающей наилучший r2-score.\n",
    "   - Обучить модель с лучшей степенью полинома и провести предсказание.\n",
    "\n",
    "3. **Реализация и валидация линейной регрессии собственной реализации:**\n",
    "   - Реализовать собственный класс линейной регрессии, содержащий методы для обучения модели и предсказания.\n",
    "   - Обучить модель на тренировочных данных и оценить её качество с помощью метрики r2-score.\n",
    "\n",
    "4. **Валидация линейной регрессии для датасета California Housing:**\n",
    "   - Разделить данные на тренировочный и валидационный наборы.\n",
    "   - Обучить модель линейной регрессии на тренировочных данных и сделать предсказания на валидационном наборе.\n",
    "   - Оценить качество модели, используя r2-score.\n",
    "   - Провести Z-преобразование данных и повторить оценку модели, сравнив результаты до и после масштабирования.\n",
    "\n",
    "Цели данного документа направлены на углубление понимания и практическое применение методов регрессии, а также на изучение способов валидации и оценки качества моделей на примере реальных данных.\n"
   ]
  },
  {
   "cell_type": "markdown",
   "metadata": {},
   "source": [
    "## Этап 1. Импорт библиотек и загрузка датасета"
   ]
  },
  {
   "cell_type": "code",
   "execution_count": null,
   "metadata": {
    "collapsed": false,
    "pycharm": {
     "name": "#%%\n"
    }
   },
   "outputs": [],
   "source": [
    "import numpy as np\n",
    "import pandas as pd\n",
    "from sklearn.linear_model import LinearRegression\n",
    "from sklearn.metrics import r2_score\n",
    "from sklearn.preprocessing import PolynomialFeatures\n",
    "from sklearn.preprocessing import StandardScaler\n",
    "\n",
    "from sklearn.model_selection import train_test_split\n",
    "from sklearn.datasets import fetch_california_housing"
   ]
  },
  {
   "cell_type": "code",
   "execution_count": null,
   "metadata": {
    "collapsed": false,
    "pycharm": {
     "name": "#%%\n"
    }
   },
   "outputs": [
    {
     "data": {
      "text/html": [
       "<div>\n",
       "<style scoped>\n",
       "    .dataframe tbody tr th:only-of-type {\n",
       "        vertical-align: middle;\n",
       "    }\n",
       "\n",
       "    .dataframe tbody tr th {\n",
       "        vertical-align: top;\n",
       "    }\n",
       "\n",
       "    .dataframe thead th {\n",
       "        text-align: right;\n",
       "    }\n",
       "</style>\n",
       "<table border=\"1\" class=\"dataframe\">\n",
       "  <thead>\n",
       "    <tr style=\"text-align: right;\">\n",
       "      <th></th>\n",
       "      <th>x_train</th>\n",
       "      <th>y_train</th>\n",
       "    </tr>\n",
       "  </thead>\n",
       "  <tbody>\n",
       "    <tr>\n",
       "      <th>0</th>\n",
       "      <td>0.138368</td>\n",
       "      <td>0.838812</td>\n",
       "    </tr>\n",
       "    <tr>\n",
       "      <th>1</th>\n",
       "      <td>0.157237</td>\n",
       "      <td>0.889313</td>\n",
       "    </tr>\n",
       "    <tr>\n",
       "      <th>2</th>\n",
       "      <td>0.188684</td>\n",
       "      <td>1.430040</td>\n",
       "    </tr>\n",
       "    <tr>\n",
       "      <th>3</th>\n",
       "      <td>0.685553</td>\n",
       "      <td>1.717309</td>\n",
       "    </tr>\n",
       "    <tr>\n",
       "      <th>4</th>\n",
       "      <td>0.874237</td>\n",
       "      <td>2.032588</td>\n",
       "    </tr>\n",
       "  </tbody>\n",
       "</table>\n",
       "</div>"
      ],
      "text/plain": [
       "    x_train   y_train\n",
       "0  0.138368  0.838812\n",
       "1  0.157237  0.889313\n",
       "2  0.188684  1.430040\n",
       "3  0.685553  1.717309\n",
       "4  0.874237  2.032588"
      ]
     },
     "execution_count": 2,
     "metadata": {},
     "output_type": "execute_result"
    }
   ],
   "source": [
    "data = pd.read_csv(\"non_linear.csv\", delimiter=',')\n",
    "data.head()"
   ]
  },
  {
   "cell_type": "markdown",
   "metadata": {},
   "source": [
    "## Этап 2. Выбор лучшей степени полиномиальной регрессии\n",
    "\n",
    "В рамках данного этапа была подчеркнута важность метрик качества для сравнения различных моделей между собой. В контексте задачи полиномиальной регрессии были выполнены следующие действия:\n",
    "\n",
    "- Взяты все степени полинома от 1 до 10 по порядку, без пропусков.\n",
    "- Определена степень полинома, которая обеспечивает наилучший r2-score.\n",
    "- Реализован код, выводящий наиболее подходящую степень полинома и соответствующий ей r2-score.\n",
    "\n",
    "Этот процесс, известный как Grid Search, способствовал нахождению оптимальных параметров для модели. После определения лучшей степени полинома, модель была обучена и использована для выполнения предсказаний.\n"
   ]
  },
  {
   "cell_type": "code",
   "execution_count": 3,
   "metadata": {
    "collapsed": false,
    "pycharm": {
     "name": "#%%\n"
    }
   },
   "outputs": [],
   "source": [
    "X = data[\"x_train\"].values.reshape(-1, 1)\n",
    "y = data[\"y_train\"].values.reshape(-1, 1)\n",
    "\n",
    "best_score = 0\n",
    "best_degree = 0"
   ]
  },
  {
   "cell_type": "code",
   "execution_count": 4,
   "metadata": {
    "collapsed": false,
    "pycharm": {
     "name": "#%%\n"
    }
   },
   "outputs": [
    {
     "name": "stdout",
     "output_type": "stream",
     "text": [
      "Лучшая степень полинома: 10\n",
      "Её скор: 0.9091133831293501\n"
     ]
    }
   ],
   "source": [
    "for i in range(1, 11):\n",
    "    poly = PolynomialFeatures(degree=i)\n",
    "    X_poly = poly.fit_transform(X)\n",
    "    model = LinearRegression()\n",
    "    model.fit(X_poly, y)\n",
    "\n",
    "    y_predicted = model.predict(X_poly)\n",
    "    score = r2_score(y, y_predicted)\n",
    "\n",
    "    if score > best_score:\n",
    "        best_score = score\n",
    "        best_degree = i\n",
    "\n",
    "print(f\"Лучшая степень полинома: {best_degree}\")\n",
    "print(f\"Её скор: {best_score}\")"
   ]
  },
  {
   "cell_type": "markdown",
   "metadata": {
    "id": "z3dSmlAFzhU9",
    "pycharm": {
     "name": "#%% md\n"
    }
   },
   "source": [
    "## Этап 3. Линейная регрессия библиотечной реализации\n",
    "\n",
    "В этой части работы был разработан и реализован класс для обучения модели линейной регрессии, обладающий следующими возможностями:\n",
    "\n",
    "- **Метод `.fit(X, y)`:** \n",
    "  - Этот метод принимает на вход массив фичей `X` и массив таргетов `y`, после чего обучает коэффициенты регрессии. Процесс обучения основан на аналитическом вычислении коэффициентов, что гарантирует точность и эффективность в получении результатов.\n",
    "\n",
    "- **Метод `.predict(X)`:**\n",
    "  - Метод `.predict(X)` используется для предсказания значений. Он принимает массив фичей `X` и возвращает массив предсказаний `y`, основываясь на ранее обученных коэффициентах регрессии.\n",
    "\n",
    "Реализация этого класса предоставила глубокое понимание механизмов работы линейной регрессии и позволила увидеть, как процесс обучения и предсказания реализуется \"внутри\" библиотечной реализации. Это задание стало ключевым для осмысления и усвоения концепций линейной регрессии на практике.\n"
   ]
  },
  {
   "cell_type": "code",
   "execution_count": 5,
   "metadata": {
    "id": "rayvZFx1zhU9",
    "pycharm": {
     "name": "#%%\n"
    }
   },
   "outputs": [],
   "source": [
    "class CustomLinearReg:\n",
    "    def __init__(self):\n",
    "        self.coef_ = None\n",
    "        self.intercept_ = None\n",
    "    \n",
    "    def fit(self, X, y):\n",
    "        X_bias = np.c_[np.ones((len(X), 1)), X]\n",
    "        theta = np.linalg.inv(X_bias.T.dot(X_bias)).dot(X_bias.T).dot(y)\n",
    "        self.intercept_ = theta[0]\n",
    "        self.coef_ = theta[1:]\n",
    "    \n",
    "    def predict(self, X):\n",
    "        X_b = np.c_[np.ones((len(X), 1)), X]\n",
    "        y_predicted = X_b.dot(np.concatenate([[self.intercept_], self.coef_]))\n",
    "        return y_predicted"
   ]
  },
  {
   "cell_type": "code",
   "execution_count": 6,
   "metadata": {
    "collapsed": false,
    "pycharm": {
     "name": "#%%\n"
    }
   },
   "outputs": [
    {
     "name": "stdout",
     "output_type": "stream",
     "text": [
      "r2-score:  0.9091133831293501\n"
     ]
    }
   ],
   "source": [
    "reg = CustomLinearReg()\n",
    "reg.fit(X, y)\n",
    "\n",
    "print('r2-score: ', r2_score(y, y_predicted))"
   ]
  },
  {
   "cell_type": "markdown",
   "metadata": {
    "id": "uwWP7aPOzhVA",
    "pycharm": {
     "name": "#%% md\n"
    }
   },
   "source": [
    "## Этап 4. Валидация линейной регрессии для датасета Catch California Housing\n",
    "\n",
    "В рамках этого этапа был осуществлён процесс валидации модели линейной регрессии на данных о домах из Калифорнии. Этапы, которые были выполнены:\n",
    "\n",
    "1. **Разделение датасета:**\n",
    "   - Датасет был разделён на две части: тренировочную (`train`) с 80% данных и валидационную (`valid`) с 20% данных. Для разделения использовалась функция `train_test_split` из библиотеки `sklearn`.\n",
    "\n",
    "2. **Обучение модели:**\n",
    "   - Модель линейной регрессии была обучена исключительно на тренировочном наборе данных (`train`), что обеспечивает чистоту эксперимента и позволяет оценить способность модели к обобщению на новых данных.\n",
    "\n",
    "3. **Построение предсказаний на валидационном наборе:**\n",
    "   - На основе обученной модели были построены предсказания для валидационного набора данных (`valid`).\n",
    "\n",
    "4. **Расчёт метрики r2 на валидационном наборе:**\n",
    "   - Для оценки качества модели на валидационном наборе был рассчитан `r2 score`, который представляет собой меру объясняемой моделью дисперсии зависимой переменной.\n",
    "\n",
    "Далее, было проведено Z-преобразование обоих наборов данных (тренировочного и валидационного), после чего шаги 2-4 были повторены. Это позволило оценить влияние масштабирования признаков на качество модели, выраженное через `r2 score`. Изменение метрики `r2` после Z-преобразования предоставило дополнительные инсайты о структуре и свойствах данных.\n",
    "\n",
    "Этот процесс стал ключевым для понимания механизмов валидации моделей на отложенной выборке и влияния предобработки данных на результаты моделирования.\n"
   ]
  },
  {
   "cell_type": "code",
   "execution_count": 7,
   "metadata": {
    "collapsed": false,
    "pycharm": {
     "name": "#%%\n"
    }
   },
   "outputs": [],
   "source": [
    "california = fetch_california_housing()\n",
    "\n",
    "X_train, X_valid, y_train, y_valid = train_test_split(\n",
    "    california.data, california.target, test_size=0.2, random_state=42\n",
    ")"
   ]
  },
  {
   "cell_type": "code",
   "execution_count": 8,
   "metadata": {
    "collapsed": false,
    "pycharm": {
     "name": "#%%\n"
    }
   },
   "outputs": [
    {
     "data": {
      "text/html": [
       "<style>#sk-container-id-1 {color: black;background-color: white;}#sk-container-id-1 pre{padding: 0;}#sk-container-id-1 div.sk-toggleable {background-color: white;}#sk-container-id-1 label.sk-toggleable__label {cursor: pointer;display: block;width: 100%;margin-bottom: 0;padding: 0.3em;box-sizing: border-box;text-align: center;}#sk-container-id-1 label.sk-toggleable__label-arrow:before {content: \"▸\";float: left;margin-right: 0.25em;color: #696969;}#sk-container-id-1 label.sk-toggleable__label-arrow:hover:before {color: black;}#sk-container-id-1 div.sk-estimator:hover label.sk-toggleable__label-arrow:before {color: black;}#sk-container-id-1 div.sk-toggleable__content {max-height: 0;max-width: 0;overflow: hidden;text-align: left;background-color: #f0f8ff;}#sk-container-id-1 div.sk-toggleable__content pre {margin: 0.2em;color: black;border-radius: 0.25em;background-color: #f0f8ff;}#sk-container-id-1 input.sk-toggleable__control:checked~div.sk-toggleable__content {max-height: 200px;max-width: 100%;overflow: auto;}#sk-container-id-1 input.sk-toggleable__control:checked~label.sk-toggleable__label-arrow:before {content: \"▾\";}#sk-container-id-1 div.sk-estimator input.sk-toggleable__control:checked~label.sk-toggleable__label {background-color: #d4ebff;}#sk-container-id-1 div.sk-label input.sk-toggleable__control:checked~label.sk-toggleable__label {background-color: #d4ebff;}#sk-container-id-1 input.sk-hidden--visually {border: 0;clip: rect(1px 1px 1px 1px);clip: rect(1px, 1px, 1px, 1px);height: 1px;margin: -1px;overflow: hidden;padding: 0;position: absolute;width: 1px;}#sk-container-id-1 div.sk-estimator {font-family: monospace;background-color: #f0f8ff;border: 1px dotted black;border-radius: 0.25em;box-sizing: border-box;margin-bottom: 0.5em;}#sk-container-id-1 div.sk-estimator:hover {background-color: #d4ebff;}#sk-container-id-1 div.sk-parallel-item::after {content: \"\";width: 100%;border-bottom: 1px solid gray;flex-grow: 1;}#sk-container-id-1 div.sk-label:hover label.sk-toggleable__label {background-color: #d4ebff;}#sk-container-id-1 div.sk-serial::before {content: \"\";position: absolute;border-left: 1px solid gray;box-sizing: border-box;top: 0;bottom: 0;left: 50%;z-index: 0;}#sk-container-id-1 div.sk-serial {display: flex;flex-direction: column;align-items: center;background-color: white;padding-right: 0.2em;padding-left: 0.2em;position: relative;}#sk-container-id-1 div.sk-item {position: relative;z-index: 1;}#sk-container-id-1 div.sk-parallel {display: flex;align-items: stretch;justify-content: center;background-color: white;position: relative;}#sk-container-id-1 div.sk-item::before, #sk-container-id-1 div.sk-parallel-item::before {content: \"\";position: absolute;border-left: 1px solid gray;box-sizing: border-box;top: 0;bottom: 0;left: 50%;z-index: -1;}#sk-container-id-1 div.sk-parallel-item {display: flex;flex-direction: column;z-index: 1;position: relative;background-color: white;}#sk-container-id-1 div.sk-parallel-item:first-child::after {align-self: flex-end;width: 50%;}#sk-container-id-1 div.sk-parallel-item:last-child::after {align-self: flex-start;width: 50%;}#sk-container-id-1 div.sk-parallel-item:only-child::after {width: 0;}#sk-container-id-1 div.sk-dashed-wrapped {border: 1px dashed gray;margin: 0 0.4em 0.5em 0.4em;box-sizing: border-box;padding-bottom: 0.4em;background-color: white;}#sk-container-id-1 div.sk-label label {font-family: monospace;font-weight: bold;display: inline-block;line-height: 1.2em;}#sk-container-id-1 div.sk-label-container {text-align: center;}#sk-container-id-1 div.sk-container {/* jupyter's `normalize.less` sets `[hidden] { display: none; }` but bootstrap.min.css set `[hidden] { display: none !important; }` so we also need the `!important` here to be able to override the default hidden behavior on the sphinx rendered scikit-learn.org. See: https://github.com/scikit-learn/scikit-learn/issues/21755 */display: inline-block !important;position: relative;}#sk-container-id-1 div.sk-text-repr-fallback {display: none;}</style><div id=\"sk-container-id-1\" class=\"sk-top-container\"><div class=\"sk-text-repr-fallback\"><pre>LinearRegression()</pre><b>In a Jupyter environment, please rerun this cell to show the HTML representation or trust the notebook. <br />On GitHub, the HTML representation is unable to render, please try loading this page with nbviewer.org.</b></div><div class=\"sk-container\" hidden><div class=\"sk-item\"><div class=\"sk-estimator sk-toggleable\"><input class=\"sk-toggleable__control sk-hidden--visually\" id=\"sk-estimator-id-1\" type=\"checkbox\" checked><label for=\"sk-estimator-id-1\" class=\"sk-toggleable__label sk-toggleable__label-arrow\">LinearRegression</label><div class=\"sk-toggleable__content\"><pre>LinearRegression()</pre></div></div></div></div></div>"
      ],
      "text/plain": [
       "LinearRegression()"
      ]
     },
     "execution_count": 8,
     "metadata": {},
     "output_type": "execute_result"
    }
   ],
   "source": [
    "lr = LinearRegression()\n",
    "lr.fit(X_train, y_train)"
   ]
  },
  {
   "cell_type": "code",
   "execution_count": 9,
   "metadata": {
    "collapsed": false,
    "pycharm": {
     "name": "#%%\n"
    }
   },
   "outputs": [],
   "source": [
    "y_predicted = lr.predict(X_valid)"
   ]
  },
  {
   "cell_type": "code",
   "execution_count": 10,
   "metadata": {
    "collapsed": false,
    "pycharm": {
     "name": "#%%\n"
    }
   },
   "outputs": [
    {
     "name": "stdout",
     "output_type": "stream",
     "text": [
      "r2-score: 0.5757877060324521\n"
     ]
    }
   ],
   "source": [
    "r2 = r2_score(y_valid, y_predicted)\n",
    "print('r2-score:', r2)"
   ]
  },
  {
   "cell_type": "code",
   "execution_count": 11,
   "metadata": {
    "collapsed": false,
    "pycharm": {
     "name": "#%%\n"
    }
   },
   "outputs": [
    {
     "name": "stdout",
     "output_type": "stream",
     "text": [
      "r2 score с масштабированием: 0.575787706032451\n"
     ]
    }
   ],
   "source": [
    "scaler = StandardScaler()\n",
    "X_train_scaled = scaler.fit_transform(X_train)\n",
    "X_valid_scaled = scaler.transform(X_valid)\n",
    "\n",
    "lr = LinearRegression()\n",
    "lr.fit(X_train_scaled, y_train)\n",
    "\n",
    "y_predicted_scaled = lr.predict(X_valid_scaled)\n",
    "r2_scaled = r2_score(y_valid, y_predicted_scaled)\n",
    "\n",
    "print(\"r2 score с масштабированием:\", r2_scaled)"
   ]
  },
  {
   "cell_type": "markdown",
   "metadata": {
    "collapsed": false,
    "pycharm": {
     "name": "#%% md\n"
    }
   },
   "source": [
    "После Z-преобразования r2 score совсем не изменился. Скорее всего, набор данных был уже почищен, а трансформация была не нужна."
   ]
  }
 ],
 "metadata": {
  "colab": {
   "collapsed_sections": [],
   "name": "3.11 Домашняя работа",
   "provenance": []
  },
  "kernelspec": {
   "display_name": "Python 3",
   "language": "python",
   "name": "python3"
  },
  "language_info": {
   "codemirror_mode": {
    "name": "ipython",
    "version": 3
   },
   "file_extension": ".py",
   "mimetype": "text/x-python",
   "name": "python",
   "nbconvert_exporter": "python",
   "pygments_lexer": "ipython3",
   "version": "3.6.3"
  }
 },
 "nbformat": 4,
 "nbformat_minor": 0
}
