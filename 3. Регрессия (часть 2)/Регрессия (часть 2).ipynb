{
 "cells": [
  {
   "cell_type": "markdown",
   "metadata": {
    "id": "NTvgYjVhnE6h",
    "pycharm": {
     "name": "#%% md\n"
    }
   },
   "source": [
    "# Регрессия (часть 2)\n",
    "\n",
    "## Цели работы\n",
    "\n",
    "1. **Импорт библиотек и загрузка датасета:**\n",
    "   - Импортировать необходимые библиотеки и загрузить датасет для анализа и построения модели регрессии.\n",
    "   - Провести предварительную обработку и визуализацию данных для лучшего понимания их структуры и распределения.\n",
    "\n",
    "2. **Реализация и оптимизация градиентного спуска:**\n",
    "   - Реализовать функцию градиентного спуска для минимизации ошибки предсказания модели.\n",
    "   - Добавить регуляризацию в функцию градиентного спуска для контроля сложности модели и предотвращения переобучения.\n",
    "   - Оптимизировать процесс обучения с помощью подбора гиперпараметров, таких как скорость обучения (learning rate) и коэффициент регуляризации.\n",
    "\n",
    "3. **Визуализация результатов моделирования:**\n",
    "   - Визуализировать исходные данные и построенную модель на одном графике для наглядного представления качества подгонки модели к данным.\n",
    "   - Использовать графические средства для демонстрации результата работы градиентного спуска и качества подбора модели.\n",
    "\n",
    "Цели данного документа направлены на глубокое понимание и практическую реализацию градиентного спуска в контексте регрессионного анализа, а также на изучение влияния регуляризации на качество модели и её способность обобщать данные.\n"
   ]
  },
  {
   "cell_type": "markdown",
   "metadata": {},
   "source": [
    "## Этап 1. Импорт библиотек и загрузка датасета"
   ]
  },
  {
   "cell_type": "code",
   "execution_count": null,
   "metadata": {
    "collapsed": false,
    "pycharm": {
     "name": "#%%\n"
    }
   },
   "outputs": [
    {
     "data": {
      "text/html": [
       "<div>\n",
       "<style scoped>\n",
       "    .dataframe tbody tr th:only-of-type {\n",
       "        vertical-align: middle;\n",
       "    }\n",
       "\n",
       "    .dataframe tbody tr th {\n",
       "        vertical-align: top;\n",
       "    }\n",
       "\n",
       "    .dataframe thead th {\n",
       "        text-align: right;\n",
       "    }\n",
       "</style>\n",
       "<table border=\"1\" class=\"dataframe\">\n",
       "  <thead>\n",
       "    <tr style=\"text-align: right;\">\n",
       "      <th></th>\n",
       "      <th>x_train</th>\n",
       "      <th>y_train</th>\n",
       "    </tr>\n",
       "  </thead>\n",
       "  <tbody>\n",
       "    <tr>\n",
       "      <th>5</th>\n",
       "      <td>1.182421</td>\n",
       "      <td>1.860341</td>\n",
       "    </tr>\n",
       "    <tr>\n",
       "      <th>6</th>\n",
       "      <td>1.251605</td>\n",
       "      <td>1.878928</td>\n",
       "    </tr>\n",
       "    <tr>\n",
       "      <th>7</th>\n",
       "      <td>1.270474</td>\n",
       "      <td>2.430015</td>\n",
       "    </tr>\n",
       "    <tr>\n",
       "      <th>8</th>\n",
       "      <td>1.402553</td>\n",
       "      <td>2.327856</td>\n",
       "    </tr>\n",
       "    <tr>\n",
       "      <th>9</th>\n",
       "      <td>1.427711</td>\n",
       "      <td>2.203649</td>\n",
       "    </tr>\n",
       "  </tbody>\n",
       "</table>\n",
       "</div>"
      ],
      "text/plain": [
       "    x_train   y_train\n",
       "5  1.182421  1.860341\n",
       "6  1.251605  1.878928\n",
       "7  1.270474  2.430015\n",
       "8  1.402553  2.327856\n",
       "9  1.427711  2.203649"
      ]
     },
     "execution_count": 1,
     "metadata": {},
     "output_type": "execute_result"
    }
   ],
   "source": [
    "import pandas as pd\n",
    "\n",
    "data = pd.read_csv('non_linear.csv', sep=',')\n",
    "data = data[(data.x_train > 1) & (data.x_train < 5)].copy()\n",
    "data.head()"
   ]
  },
  {
   "cell_type": "markdown",
   "metadata": {},
   "source": [
    "## Этап 2. Градиентный спуск\n",
    "\n",
    " В реализацию функции `gradient` добавлен параметр $\\lambda$, чтобы получить регуляризованный градиентный спуск\n",
    "\n",
    "Формула поменяется следующим образом:\n",
    "$$\n",
    "\\left\\{\n",
    "\\begin{array}{cc}\n",
    "\\frac{\\partial L}{\\partial w_0} = \\frac{2}{n}\\cdot(-1)\\cdot \\sum_{i=1}^{n} (1\\cdot \\left(y_i - \\sum_{j=1}^{m}w_jx_j^i\\right) + \\lambda\\cdot 2\\cdot w_0)&\\\\\n",
    "\\frac{\\partial L}{\\partial w_k} = \\frac{2}{n}\\cdot(-1)\\cdot \\sum_{i=1}^{n} (x_k^i \\cdot\\left(y_i - \\sum_{j=1}^{m}w_jx_j^i\\right) + \\lambda\\cdot 2\\cdot w_k)& k\\neq 0 \\\\\n",
    "\\end{array}\n",
    "\\right.\n",
    "$$"
   ]
  },
  {
   "cell_type": "code",
   "execution_count": 2,
   "metadata": {
    "collapsed": false,
    "pycharm": {
     "name": "#%%\n"
    }
   },
   "outputs": [],
   "source": [
    "from scipy.spatial import distance\n",
    "import numpy as np\n",
    "import matplotlib.pyplot as plt\n",
    "%matplotlib inline\n",
    "\n",
    "def gradient(X, y, w, alpha) -> np.array:\n",
    "    n = X.shape[0]\n",
    "    y_hat = X.dot(w.T)\n",
    "    error = y - y_hat\n",
    "    grad = ((np.multiply(X, error)) + 2 * alpha * w).sum(axis=0) * (-1.0) * 2.0 / n\n",
    "    return grad, error"
   ]
  },
  {
   "cell_type": "code",
   "execution_count": 3,
   "metadata": {
    "collapsed": false,
    "pycharm": {
     "name": "#%%\n"
    }
   },
   "outputs": [],
   "source": [
    "def eval_w_next(X, y, eta, w_current: np.array):\n",
    "    alpha = 0.001\n",
    "    grad, error = gradient(X, y, w_current, alpha)\n",
    "    w_next = w_current - eta * grad\n",
    "    weight_evolution = distance.euclidean(w_current.reshape(-1), w_next.reshape(-1))\n",
    "    return w_next, weight_evolution, grad"
   ]
  },
  {
   "cell_type": "code",
   "execution_count": 4,
   "metadata": {
    "collapsed": false,
    "pycharm": {
     "name": "#%%\n"
    }
   },
   "outputs": [],
   "source": [
    "def gradient_descent(X, y, eta=0.01, epsilon=0.001):\n",
    "    m = X.shape[1]\n",
    "    w = np.random.random(m).reshape(1, -1)\n",
    "    w_next, weight_evolution, grad = eval_w_next(X, y, eta, w)\n",
    "    step = 0\n",
    "    while weight_evolution > epsilon:\n",
    "        w = w_next\n",
    "        w_next, weight_evolution, grad = eval_w_next(X, y, eta, w)\n",
    "        step += 1\n",
    "        if step % 100 ==0:\n",
    "            print(\"step %s |w - w_next| = %.5f, grad=%s\" % (step, weight_evolution, grad))\n",
    "    return w"
   ]
  },
  {
   "cell_type": "code",
   "execution_count": 5,
   "metadata": {
    "collapsed": false,
    "pycharm": {
     "name": "#%%\n"
    }
   },
   "outputs": [
    {
     "name": "stdout",
     "output_type": "stream",
     "text": [
      "step 100 |w - w_next| = 0.00396, grad=[-0.47570373  0.13742138]\n",
      "step 200 |w - w_next| = 0.00327, grad=[-0.39272602  0.11345074]\n",
      "step 300 |w - w_next| = 0.00270, grad=[-0.32422223  0.09366135]\n",
      "step 400 |w - w_next| = 0.00223, grad=[-0.26766766  0.07732386]\n",
      "step 500 |w - w_next| = 0.00184, grad=[-0.22097799  0.06383614]\n",
      "step 600 |w - w_next| = 0.00152, grad=[-0.18243246  0.05270111]\n",
      "step 700 |w - w_next| = 0.00125, grad=[-0.1506105   0.04350838]\n",
      "step 800 |w - w_next| = 0.00104, grad=[-0.12433928  0.03591914]\n"
     ]
    }
   ],
   "source": [
    "X = data['x_train'].values.reshape(-1, 1)\n",
    "n = X.shape[0]\n",
    "X = np.hstack([\n",
    "    np.ones(n).reshape(-1,1),\n",
    "    X])\n",
    "\n",
    "w = gradient_descent(X, data['y_train'].values.reshape(-1,1), eta=0.008)"
   ]
  },
  {
   "cell_type": "code",
   "execution_count": 6,
   "metadata": {
    "collapsed": false,
    "pycharm": {
     "name": "#%%\n"
    }
   },
   "outputs": [],
   "source": [
    "support = np.linspace(X.min(), X.max(), num=100)\n",
    "y_hat = np.hstack([\n",
    "    np.ones(support.size).reshape(-1, 1),\n",
    "    support.reshape(-1, 1)\n",
    "]).dot(w.T)"
   ]
  },
  {
   "cell_type": "markdown",
   "metadata": {},
   "source": [
    "## Этап 3. Визуализация результатов моделирования"
   ]
  },
  {
   "cell_type": "code",
   "execution_count": 7,
   "metadata": {
    "collapsed": false,
    "pycharm": {
     "name": "#%%\n"
    }
   },
   "outputs": [
    {
     "data": {
      "image/png": "[encoded data removed]",
      "text/plain": [
       "<Figure size 432x288 with 1 Axes>"
      ]
     },
     "metadata": {
      "needs_background": "light"
     },
     "output_type": "display_data"
    }
   ],
   "source": [
    "plt.plot(support, y_hat, 'r--', alpha=0.5, label='manifold')\n",
    "plt.scatter(data['x_train'], data['y_train'], 40, 'g', 'o', alpha=0.8, label='data')\n",
    "plt.show()"
   ]
  },
  {
   "cell_type": "markdown",
   "metadata": {},
   "source": [
    "На графике представлена визуализация результатов моделирования полиномиальной регрессии. Зелёные точки обозначают наблюдаемые данные (`x_train` и `y_train`), и мы видим, что они расположены в основном вдоль определённого тренда. Красная пунктирная линия представляет собой предсказанное многообразие, полученное с помощью обученной модели регрессии.\n",
    "\n",
    "Из графика видно, что предсказанное многообразие не совсем точно описывает все данные, что может указывать на необходимость дальнейшей оптимизации модели, например, через подбор более сложной модели или настройку гиперпараметров. Также стоит рассмотреть возможность поиска дополнительных признаков или проведения более глубокого разведочного анализа для лучшего понимания взаимосвязей в данных.\n"
   ]
  }
 ],
 "metadata": {
  "celltoolbar": "Slideshow",
  "colab": {
   "provenance": []
  },
  "kernelspec": {
   "display_name": "Python 3",
   "language": "python",
   "name": "python3"
  },
  "language_info": {
   "codemirror_mode": {
    "name": "ipython",
    "version": 3
   },
   "file_extension": ".py",
   "mimetype": "text/x-python",
   "name": "python",
   "nbconvert_exporter": "python",
   "pygments_lexer": "ipython3",
   "version": "3.6.3"
  }
 },
 "nbformat": 4,
 "nbformat_minor": 0
}
